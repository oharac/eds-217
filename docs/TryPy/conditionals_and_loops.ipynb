{
 "cells": [
  {
   "cell_type": "raw",
   "id": "1759e0b1",
   "metadata": {},
   "source": [
    "---\n",
    "title: TryPy 3 - For Loops and Conditionals\n",
    "---"
   ]
  },
  {
   "cell_type": "markdown",
   "id": "5c363c1b",
   "metadata": {},
   "source": [
    "## Part 0. Setup Steps\n",
    "\n",
    "- Create a repo on GitHub named `eds217-trypy-03`\n",
    "- Clone to create a version-controlled project\n",
    "- Create some subfolder infrastructure (docs, data)\n",
    "- Create a new python notebook.\n",
    "- Complete all tasks for Part 1 in this .ipynb*\n",
    "\n",
    "## Part 1. Conditional statements & for loops\n",
    "\n",
    "\n",
    "*Complete each of the following in a separate code chunk.*\n",
    "\n",
    "### Conditional statements\n",
    "\n",
    "#### Task 1\n",
    "\n",
    "Create an object called `pm2_5` with a value of 48 (representing Particulate Matter 2.5, an indicator for air quality, in $\\frac{\\mu g}{m^3}$ (see more about PM2.5 [here](https://www3.epa.gov/region1/airquality/pm-aq-standards.html)). \n",
    "\n",
    "Write an `if - else if - else` statement that returns \"Low to moderate risk\" if `pm2_5` (for Particulate Matter 2.5) is less than 100, \"Unhealthy for sensitive groups\" if PM 2.5 is 100 <= pm2_5 < 150, and \"Health risk present\"  if PM 2.5 is >= 150. \n",
    "\n",
    "Test by changing the value of your pm2_5 object and re-running your statement to check. "
   ]
  },
  {
   "cell_type": "code",
   "execution_count": null,
   "id": "f85b37b0",
   "metadata": {},
   "outputs": [],
   "source": [
    "#| echo: false\n",
    "#| eval: false\n",
    "\n",
    "pm2_5 = 48\n",
    "if (pm2_5 < 100): \n",
    "    print(\"Low to moderate health risk\")\n",
    "elif (pm2_5 >= 100 & pm2_5 < 150):\n",
    "    print(\"Unhealthy for sensitive groups\")\n",
    "elif (pm2_5 >= 150):\n",
    "    print(\"Health risk present\")"
   ]
  },
  {
   "cell_type": "markdown",
   "id": "ab5c49f6",
   "metadata": {},
   "source": [
    "#### Task 2\n",
    "\n",
    "Store the string \"blue whale\" as an object called `species`. \n",
    "\n",
    "Write an if statement that returns \"You found a whale!\" if the string \"whale\" is detected in species, otherwise return nothing. \n",
    "\n",
    "Test by changing the species string & re-running to see output. "
   ]
  },
  {
   "cell_type": "code",
   "execution_count": null,
   "id": "f6d0c0f9",
   "metadata": {},
   "outputs": [],
   "source": [
    "#| echo: false\n",
    "#| eval: false\n",
    "\n",
    "species = \"gray whale\"\n",
    "if (\"whale\" in species):\n",
    "    print(\"You found a whale!\")"
   ]
  },
  {
   "cell_type": "markdown",
   "id": "c08ec99c",
   "metadata": {},
   "source": [
    "#### Task 3\n",
    "\n",
    "Create a vector stored as `max_airtemp_c` with a value of 24.1. \n",
    "\n",
    "Write an `if else` statement that will print \"Temperature too high\" if `max_airtemp_c` is greater than 27, or \"Temperature OK\" if temperature is less than or equal to 27. "
   ]
  },
  {
   "cell_type": "code",
   "execution_count": null,
   "id": "e3102f75",
   "metadata": {},
   "outputs": [],
   "source": [
    "#| echo: false\n",
    "#| eval: false\n",
    "\n",
    "max_airtemp_c = 24.1\n",
    "\n",
    "if (max_airtemp_c > 27): \n",
    "  print(\"Temperature too high\")\n",
    "else:\n",
    "  print(\"Temperature OK\")"
   ]
  },
  {
   "cell_type": "markdown",
   "id": "a108416e",
   "metadata": {},
   "source": [
    "#### Task 4\n",
    "\n",
    "Store the base price of a burrito as `base_burrito` with a value of 6.50. Store `main_ingredent` with a starting string of \"veggie.\" \n",
    "\n",
    "Write a statement that will return the price of a burrito based on what a user specifies as \"main_ingredient\" (either \"veggie\", \"chicken\" or \"steak\") given the following: \n",
    "\n",
    "- A veggie burrito is the cost of a base burrito\n",
    "- A chicken burrito costs 3.00 more than a base burrito\n",
    "- A steak burrito costs 3.25 more than a base burrito"
   ]
  },
  {
   "cell_type": "code",
   "execution_count": null,
   "id": "f25bd4ea",
   "metadata": {},
   "outputs": [],
   "source": [
    "#| echo: false\n",
    "#| eval: false\n",
    "\n",
    "base_burrito = 6.50\n",
    "main_ingredient = \"steak\"\n",
    "if (main_ingredient == \"veggie\"):\n",
    "    price = base_burrito\n",
    "elif (main_ingredient == \"chicken\"):\n",
    "    price = base_burrito + 3.00\n",
    "elif (main_ingredient == \"steak\"):\n",
    "    price = base_burrito + 3.25\n",
    "    \n",
    "print(f\"Ingredient: {main_ingredient}, Price:{price}\")\n"
   ]
  },
  {
   "cell_type": "markdown",
   "id": "d07b2de4",
   "metadata": {},
   "source": [
    "### For loops\n",
    "\n",
    "*Complete each of the following in a separate code chunk.*\n",
    "\n",
    "#### Task 5\n",
    "\n",
    "Create a new vector called `fish` that contains the values `8, 10, 12, 23` representing counts of different fish types in a fish tank (goldfish, tetras, guppies, and mollies, respectively). \n",
    "\n",
    "Write a for loop that iterates through `fish`, and returns what proportion of total fish in the tank are that species. \n",
    "\n",
    "Assume that these counts represent all fish in the tank. "
   ]
  },
  {
   "cell_type": "code",
   "execution_count": null,
   "id": "d191f8fc",
   "metadata": {},
   "outputs": [],
   "source": [
    "#| echo: false\n",
    "#| eval: false\n",
    "\n",
    "fish = [8, 10, 12, 23]\n",
    "sum_fish = sum(fish)\n",
    "for i in fish:\n",
    "    fish_prop = i / sum_fish\n",
    "    print(round(fish_prop,2))\n"
   ]
  },
  {
   "cell_type": "markdown",
   "id": "bde6617e",
   "metadata": {},
   "source": [
    "#### Task 6\n",
    "\n",
    "Python has a list of month names stored in the `calendar` library (part of the standard library in Python). You can load this list using `from calendar import month_name`. These items are stored so that \"January\" is in `month_name[1]`, meaning this is one of the rare arrays in python that is not zero-indexed.  \n",
    "\n",
    " **Write a for loop** that iterates over all months in `month_name` and prints \"January is month 1,\" \"February is month 2\", etc. \n",
    "\n",
    "**Hint:** you can index values in the `month_name` vector just like you would any other vector (e.g., try running `month_name[5]`)."
   ]
  },
  {
   "cell_type": "code",
   "execution_count": null,
   "id": "832d1b46",
   "metadata": {},
   "outputs": [],
   "source": [
    "#| echo: false\n",
    "#| eval: false\n",
    "\n",
    "from calendar import month_name\n",
    "\n",
    "for i in range(1,13):\n",
    "    print(f\"{month_name[i]} is month {i}\")\n"
   ]
  },
  {
   "cell_type": "markdown",
   "id": "24f3fc11",
   "metadata": {},
   "source": [
    "## Part 2. Real data\n",
    "\n",
    "*You will complete Part 3 in a separate notebook*\n",
    "\n",
    "Explore this [data package](https://portal.edirepository.org/nis/mapbrowse?packageid=knb-lter-arc.10341.5) from EDI, which contains a \"Data file describing the biogeochemistry of samples collected at various sites near Toolik Lake, North Slope of Alaska\". Familiarize yourself with the metadata (particularly, View full metadata > expand 'Data entities' to learn more about the variables in the dataset). \n",
    "\n",
    "**Citation:** Kling, G. 2016. Biogeochemistry data set for soil waters, streams, and lakes near Toolik on the North Slope of Alaska, 2011. ver 5. Environmental Data Initiative. https://doi.org/10.6073/pasta/362c8eeac5cad9a45288cf1b0d617ba7 \n",
    "\n",
    "1. Download the CSV containing the Toolik biogeochemistry data\n",
    "2. Take a look at it - how are missing values stored? Keep that in mind. \n",
    "3. Drop the CSV into your data folder of your project\n",
    "4. Create a new qmd document, save in docs as `toolik_chem.ipynb`\n",
    "5. Import the `pandas` and `janitor` package in your setup code chunk.\n",
    "6. Read in the data as `toolik_biochem`. Remember, you'll want to specify here how `NA` values are stored. Use the `clean_names()` function to convert all column names to lower case/underscore format."
   ]
  },
  {
   "cell_type": "code",
   "execution_count": null,
   "id": "444d1922",
   "metadata": {},
   "outputs": [],
   "source": [
    "#| echo: false\n",
    "import pandas as pd\n",
    "import janitor\n",
    "toolik_biochem = pd.read_csv(\n",
    "    '../data/2011_Kling_Akchem.csv',\n",
    "    na_values=\".\").clean_names()"
   ]
  },
  {
   "cell_type": "markdown",
   "id": "9efce717",
   "metadata": {},
   "source": [
    "7. Create a subset of the data that contains only observations from the \"Toolik Inlet\" site, and that only contains the variables (columns) for pH, dissolved organic carbon (DOC), and total dissolved nitrogen (TDN). Store this subset as `inlet_biochem`. Make sure to LOOK AT the subset you've created. "
   ]
  },
  {
   "cell_type": "code",
   "execution_count": null,
   "id": "f66b6ee1",
   "metadata": {},
   "outputs": [],
   "source": [
    "#| echo: false\n",
    "valid = toolik_biochem[\"site\"] == \"Toolik Inlet\"\n",
    "inlet_biochem = toolik_biochem[valid][[\n",
    "    'ph','doc_um','tdn_um']]"
   ]
  },
  {
   "cell_type": "markdown",
   "id": "94724d80",
   "metadata": {},
   "source": [
    "8. Find the mean value of each column in `inlet_biochem` 2 different ways: \n",
    "\n",
    "a. Write a for loop from scratch to calculate the mean for each\n",
    "b. Use *one other method* (e.g. `.mean()`, or `.apply()`) to find the mean for each column."
   ]
  },
  {
   "cell_type": "code",
   "execution_count": null,
   "id": "656729db",
   "metadata": {},
   "outputs": [],
   "source": [
    "#| echo: false\n",
    "import numpy as np\n",
    "\n",
    "# Strategy a:\n",
    "print(\"Using for loop:\")\n",
    "for col in inlet_biochem.columns:\n",
    "    mean_val = np.nanmean(inlet_biochem[col])\n",
    "    print(f\"col {col}: {mean_val:.2f}\")\n",
    "\n",
    "# Strategy b: \n",
    "print(\"Using list comprehension:\")\n",
    "[print(\n",
    "    f\"col {col}:\",\n",
    "    f\"{np.nanmean(inlet_biochem[col]):.2f}\")\n",
    " for col in inlet_biochem.columns]\n",
    "\n",
    "# Strategy c: \n",
    "print(\"Using df.mean()\")\n",
    "print(inlet_biochem.mean())\n",
    "\n",
    "# Strategy d: \n",
    "print(\"Using .apply()\")\n",
    "print(inlet_biochem.apply(np.nanmean))"
   ]
  },
  {
   "cell_type": "markdown",
   "id": "f06623ab",
   "metadata": {},
   "source": [
    "### Save, stage, commit, pull, push!\n",
    "\n",
    "## END activities"
   ]
  }
 ],
 "metadata": {
  "kernelspec": {
   "display_name": "eds-217",
   "language": "python",
   "name": "eds-217"
  },
  "language_info": {
   "codemirror_mode": {
    "name": "ipython",
    "version": 3
   },
   "file_extension": ".py",
   "mimetype": "text/x-python",
   "name": "python",
   "nbconvert_exporter": "python",
   "pygments_lexer": "ipython3",
   "version": "3.10.5"
  }
 },
 "nbformat": 4,
 "nbformat_minor": 5
}
