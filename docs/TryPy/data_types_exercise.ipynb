{
 "cells": [
  {
   "cell_type": "raw",
   "id": "dbc57c47",
   "metadata": {},
   "source": [
    "---\n",
    "title: TryPy 2 - Data Types, Indexing, Imports and Plotting\n",
    "---"
   ]
  },
  {
   "cell_type": "markdown",
   "id": "adec5457",
   "metadata": {},
   "source": [
    "## Part 0. Setup Steps\n",
    "\n",
    "- Create a repo on GitHub named `eds217-trypy-02`\n",
    "- Clone to create a version-controlled project\n",
    "- Create some subfolder infrastructure (docs, data)\n",
    "- Create a ~~new quarto in RStudio~~ new `.ipynb` file  called `eds-217-trypy-02.ipynb` in VSCode. If working on your local machine, make sure to associate the notebook with the `eds-217` environment.\n",
    "\n",
    "\n",
    "## Part 1. Checking data types\n",
    "\n",
    "\n",
    "### Create some data, check the classes, index!\n",
    "\n",
    "#### Vectors, lists & data frames\n",
    "\n",
    "In your notebook (or quarto) document: \n",
    "\n",
    "1. Create a list called `vec_1`containing the following: \n",
    "\n",
    "`[2, 5, 9, 10, 8, 12, 1, 0]`"
   ]
  },
  {
   "cell_type": "code",
   "execution_count": null,
   "id": "9287fcb0",
   "metadata": {},
   "outputs": [],
   "source": [
    "#| echo: false\n",
    "#| eval: false\n",
    "\n",
    "vec_1 = [2, 5, 9, 10, 8, 12, 1, 0]\n"
   ]
  },
  {
   "cell_type": "markdown",
   "id": "ece003ef",
   "metadata": {},
   "source": [
    "Check the following for that list: \n",
    "\n",
    "- What is the type of the list? `type()`\n",
    "- Access the 3rd element and store as `vec_1_e3`\n",
    "- Access the 1st element and store as `vec_1_e1`\n",
    "- Access the 5th through 7th elements and store as `vec_1_e5to7`\n",
    "- Reassign each element in `vec_1` as a string and store the new list as `vec_1_char`. What does the output look like? "
   ]
  },
  {
   "cell_type": "code",
   "execution_count": null,
   "id": "b049f90a",
   "metadata": {},
   "outputs": [],
   "source": [
    "#| echo: false\n",
    "#| eval: false\n",
    "\n",
    "print(type(vec_1))\n",
    "vec_1_e3 = vec_1[2]\n",
    "vec_1_e1 = vec_1[0]\n",
    "vec_1_e5to7 = vec_1[4:7]\n",
    "vec_1_char = [str(i) for i in vec_1]\n",
    "print(vec_1_char)"
   ]
  },
  {
   "cell_type": "markdown",
   "id": "8cebb28a",
   "metadata": {},
   "source": [
    "2. Create a dictionary called `dict_1`\n",
    "\n",
    "`dict_1` should contained *named* elements, where `town = \"Santa Barbara`, `location = \"Rincon\"`, `swell = \"south\"\n",
    "\n",
    "- Take a look at what you've made\n",
    "- What is the type of dictionary values? `type()`\n",
    "- What is the length of dict_1?\n",
    "- Access the 'location' value and store as `dict_1_v2`"
   ]
  },
  {
   "cell_type": "code",
   "execution_count": null,
   "id": "f30ec00e",
   "metadata": {},
   "outputs": [],
   "source": [
    "#| echo: false\n",
    "#| eval: false\n",
    "\n",
    "dict_1 = {\n",
    "    'town': 'Santa Barbara',\n",
    "    'location': 'Rincon',\n",
    "    'swell': 'south'\n",
    "         }\n",
    "\n",
    "len(dict_1)\n",
    "dict_1_v2 = dict_1['location']"
   ]
  },
  {
   "cell_type": "markdown",
   "id": "d88c4b52",
   "metadata": {},
   "source": [
    "3. Create a data frame in pandas\n",
    "\n",
    "Write code to create a data frame called `df_1` that looks like this:\n",
    "\n",
    "(Note: translate the `R` code below into python... don't forget to `import pandas as pd`)\n",
    "```{r, echo = FALSE}\n",
    "df_1 <- data.frame(\n",
    "    region = c(\"A\", \"B\", \"A\", \"D\"),\n",
    "    species = c(\"otter\", \"great white\", \"sea lion\", \"gray whale\"),\n",
    "    count = c(12, 2, 36, 6)\n",
    "    )\n",
    "df_1\n",
    "max_count <- max(df_1$count)\n",
    "```\n",
    "- Find the maximum value of the `count` column, store as `max_count`"
   ]
  },
  {
   "cell_type": "code",
   "execution_count": null,
   "id": "5de6e616",
   "metadata": {},
   "outputs": [],
   "source": [
    "#| echo: false\n",
    "#| eval: false\n",
    "\n",
    "import pandas as pd\n",
    "\n",
    "df_1 = pd.DataFrame({\n",
    "    'region': ['A', 'B', 'A', 'D'],\n",
    "    'species': ['otter', 'great white', 'sea lion', 'gray whale'],\n",
    "    'count': [12, 2, 36, 6]\n",
    "})\n",
    "max_count = max(df_1['count'])\n",
    "print(max_count)"
   ]
  },
  {
   "cell_type": "markdown",
   "id": "b5d4918a",
   "metadata": {},
   "source": [
    "## Part 2. Wild data\n",
    "\n",
    "#### Set-up\n",
    "\n",
    "\n",
    "- The *first CSV* listed (`AS00601.csv`) has been , and take a look at it (outside of R is fine as a first step, e.g. you can open the CSV in Excel)\n",
    "\n",
    "- Save the `AS00601.csv` in the `data` folder of your `eds-217` repo.\n",
    "\n",
    "#### Read in the data\n",
    "\n",
    "- Read in the data using `pd.read_csv()`, store as `mack_verts`"
   ]
  },
  {
   "cell_type": "code",
   "execution_count": null,
   "id": "b8600d74",
   "metadata": {},
   "outputs": [],
   "source": [
    "#| echo: false\n",
    "#| eval: false\n",
    "import pandas as pd\n",
    "\n",
    "mack_verts = pd.read_csv(\"../../data/AS00601.csv\")\n"
   ]
  },
  {
   "cell_type": "markdown",
   "id": "dae9d3b7",
   "metadata": {},
   "source": [
    "- Look at what you've read in\n",
    "\n",
    "#### A bit of wrangling & exploring\n",
    "\n",
    "\n",
    "- In a new code chunk, practice accessing individual pieces of the data frame (there is no real functionality to this, but just to reinforce stuff we learned in our interactive session): \n",
    "\n",
    "  - Store the 5th value in column `\"WEIGHT\"` as `mc_wt_5`. Check by looking at your data frame to confirm.\n",
    "  - Store the 8th - 20th value in the `\"LENGTH1\"` column as `mc_length_8_20`. Check by looking at your data frame to confirm. \n",
    "  - Store everything in column SAMPLEDATE as a `pd.Series` called `mc_dates`"
   ]
  },
  {
   "cell_type": "code",
   "execution_count": null,
   "id": "c1c21f8e",
   "metadata": {},
   "outputs": [],
   "source": [
    "#| echo: false\n",
    "#| eval: false\n",
    "\n",
    "mc_wt_5 = mack_verts.iloc[4]['WEIGHT']\n",
    "mc_length_8_20 = mack_verts.loc[7:20]['LENGTH1']\n",
    "mc_data = mack_verts['SAMPLEDATE']\n"
   ]
  },
  {
   "cell_type": "markdown",
   "id": "de7608dd",
   "metadata": {},
   "source": [
    "#### Make a salamander subset\n",
    "\n",
    "- Create a subset that only contains observations for Pacific Giant Salamanders (species *Dicamptodon tenebrosus*, stored in `SPECIES` as `DITE`). Store the subset as `mc_salamanders`. \n",
    "\n",
    "*Hint:* use logical operator to filter for the rows you want.\n",
    "\n",
    "For example, the following code block creates a new dataframe `df_new` containing only the rows in `df_old` where the value of column named `ID` is equal to `Batman`.\n",
    "\n",
    "```{python}\n",
    "    df_new = df_old[df_old['ID'] == 'Batman']\n",
    "```"
   ]
  },
  {
   "cell_type": "code",
   "execution_count": null,
   "id": "a7f00ca6",
   "metadata": {},
   "outputs": [],
   "source": [
    "#| echo: false\n",
    "#| eval: false\n",
    "\n",
    "mc_salamanders = mack_verts[mack_verts['SPECIES'] == 'DITE']"
   ]
  },
  {
   "cell_type": "markdown",
   "id": "069f4129",
   "metadata": {},
   "source": [
    "#### Make a scatterplot of salamander length x weight\n",
    "\n",
    "- Create a scatterplot of LENGTH1 (snout-vent length in millimeters) versus WEIGHT (grams) for all salamanders in the subset you created above, `mc_salamanders`. Update axis labels, title, subtitle, and add a caption with the data source. Customize point color and size, possibly opacity, and theme. "
   ]
  },
  {
   "cell_type": "code",
   "execution_count": null,
   "id": "10233187",
   "metadata": {},
   "outputs": [],
   "source": [
    "#| echo: false\n",
    "#| eval: false\n",
    "\n",
    "import seaborn as sns\n",
    "\n",
    "salamander_plot = sns.relplot(\n",
    "    data=mc_salamanders,\n",
    "    y='LENGTH1',\n",
    "    x='WEIGHT'\n",
    ")"
   ]
  },
  {
   "cell_type": "markdown",
   "id": "290a8b9b",
   "metadata": {},
   "source": [
    "- Export your scatterplot as `salamander_size.png` to your figs folder using the `fig.savefig()` command."
   ]
  },
  {
   "cell_type": "code",
   "execution_count": null,
   "id": "03481c23",
   "metadata": {},
   "outputs": [],
   "source": [
    "#| echo: false\n",
    "#| eval: false \n",
    "\n",
    "salamander_plot.savefig('salamander_size.png')"
   ]
  },
  {
   "cell_type": "markdown",
   "id": "3434532c",
   "metadata": {},
   "source": [
    "#### Make a cutthroat plot\n",
    "\n",
    "- Similar to above, make a subset called `mc_trout` that only contains observations for cutthroat trout (species \"ONCL\")\n",
    "\n",
    "*Note:* In the following, it is _way_ easier to make use the [sns.relplot()](https://seaborn.pydata.org/tutorial/relational.html#showing-multiple-relationships-with-facets) command in the  `seaborn` library than matplotlib \n",
    "\n",
    "- Create a scatterplot of `\"LENGHTH1\"` by `\"WEIGHT\"` for all trout in the dataset\n",
    "- Customize so that the point color depends on *reach* \n",
    "- Facet your plot by creek reach (`col=\"REACH\"` in `sns.relplot()`)\n",
    "- Update graph axis labels and title (`fig.set(xlabel=\"string\",ylabel=\"string\")`)\n",
    "- Export your graph as `cutthroat_size.png` to the `figs` folder (`fig.savefig()`)"
   ]
  },
  {
   "cell_type": "code",
   "execution_count": null,
   "id": "69127927",
   "metadata": {},
   "outputs": [],
   "source": [
    "#| echo: false\n",
    "#| eval: false \n",
    "mc_trout = mack_verts[mack_verts['SPECIES'] == 'ONCL']\n",
    "a = sns.relplot(\n",
    "    data=mc_trout,\n",
    "    x='WEIGHT',\n",
    "    y='LENGTH1',\n",
    "    col='REACH',\n",
    "    hue='REACH'\n",
    ")\n",
    "a.axes[0][1].set(title='test')"
   ]
  }
 ],
 "metadata": {
  "kernelspec": {
   "display_name": "eds-217",
   "language": "python",
   "name": "eds-217"
  },
  "language_info": {
   "codemirror_mode": {
    "name": "ipython",
    "version": 3
   },
   "file_extension": ".py",
   "mimetype": "text/x-python",
   "name": "python",
   "nbconvert_exporter": "python",
   "pygments_lexer": "ipython3",
   "version": "3.10.5"
  }
 },
 "nbformat": 4,
 "nbformat_minor": 5
}
