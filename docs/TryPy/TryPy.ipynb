{
 "cells": [
  {
   "cell_type": "raw",
   "id": "82480707",
   "metadata": {},
   "source": [
    "---\n",
    "title: TryPy - Re-examining R exercises through Python\n",
    "format:\n",
    "    html:\n",
    "        toc-depth: 4\n",
    "---"
   ]
  },
  {
   "cell_type": "markdown",
   "id": "1e18342e",
   "metadata": {},
   "source": [
    "# TryPy -  `R` you ready for some python?\n",
    "\n",
    "This notebook contains a set of excercises ported over from your adventures in `R` during EDS 221. The idea is to revisit these activities and attempt to translate their computations and analyses into python. \n",
    "\n",
    "As you work through these, go back and look at your `R` code as a jumping off point to what you will want to do in python. Now think about how you'd modify your existing `R` code to take advantage of `python`'s syntax and semantics. \n",
    "\n",
    "Some of these exercises may be _much easier_ to accomplish in python and some might be harder!\n",
    "\n",
    "NOTE: You can use python notebooks to do these exercises, but you could also:\n",
    "1. create them in a `quarto` document within RStudio using the `eds-217` environment on your local machine.\n",
    "1. create them as `.py` files in VSCode and run them interactively using `#%%` code blocks and the `eds-217` environment on your local machine.\n",
    "\n",
    "## TryPy Exercises\n",
    "\n",
    "\n",
    "### [St. Louis Lead data exercise](stl_blood_exercise.html) (reading csv, dataframe calculations, simple plots)\n",
    "\n",
    "### [Data types, indexing, import and plot data](data_types_exercise.html)\n",
    "\n",
    "### [Conditionals and Loops](conditionals_and_loops.html)\n",
    "\n",
    "\n"
   ]
  }
 ],
 "metadata": {
  "kernelspec": {
   "display_name": "eds-217",
   "language": "python",
   "name": "eds-217"
  },
  "language_info": {
   "codemirror_mode": {
    "name": "ipython",
    "version": 3
   },
   "file_extension": ".py",
   "mimetype": "text/x-python",
   "name": "python",
   "nbconvert_exporter": "python",
   "pygments_lexer": "ipython3",
   "version": "3.10.5"
  },
  "nteract": {
   "version": "0.28.0"
  }
 },
 "nbformat": 4,
 "nbformat_minor": 5
}
