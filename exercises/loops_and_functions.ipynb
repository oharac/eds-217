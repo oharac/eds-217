{
 "cells": [
  {
   "cell_type": "code",
   "execution_count": null,
   "id": "45aec5d7-7706-4805-8608-cd30d1d2242e",
   "metadata": {},
   "outputs": [],
   "source": [
    "### for loop\n",
    "\n",
    "a = range(1, 100, 3)\n",
    "print(a)\n",
    "a = list(a)\n",
    "print(a)\n",
    "\n",
    "for i, val in enumerate(a):\n",
    "    print(i + 100)\n",
    "    print(val * 2)\n"
   ]
  },
  {
   "cell_type": "code",
   "execution_count": null,
   "id": "d0757c66-a8b7-4403-84ea-afb57e3be1df",
   "metadata": {},
   "outputs": [],
   "source": [
    "### while loop\n",
    "\n",
    "x = -100\n",
    "\n",
    "while (x < 100):\n",
    "    x = x + 10\n",
    "    print(x)\n"
   ]
  },
  {
   "cell_type": "code",
   "execution_count": null,
   "id": "8ea52db5-fdea-48e9-90f3-2bb75fbd1245",
   "metadata": {},
   "outputs": [],
   "source": [
    "### consider adding other test conditions to avoid getting stuck in infinite loop\n",
    "x = -100\n",
    "i = 1 ### initialize count\n",
    "while (x < 100):\n",
    "    x = x - 10\n",
    "    print(x)\n",
    "    i = i + 1 ### increment count\n",
    "    if i > 20: ### after 20 steps, still haven't reached the end\n",
    "        break"
   ]
  },
  {
   "cell_type": "code",
   "execution_count": null,
   "id": "8e3febb8-5d52-4c13-976e-6ef0c095b9c1",
   "metadata": {},
   "outputs": [],
   "source": [
    "### list comprehension\n",
    "[print(aa + 100) for aa in a]"
   ]
  },
  {
   "cell_type": "code",
   "execution_count": null,
   "id": "42ed6fef-b794-4242-8993-7ed692286d21",
   "metadata": {},
   "outputs": [],
   "source": [
    "blargh = [aa / 2 for aa in a if aa > 50]\n",
    "\n",
    "blargh"
   ]
  },
  {
   "cell_type": "code",
   "execution_count": null,
   "id": "3ecb1f81-ebac-4e89-a60c-229b64508690",
   "metadata": {},
   "outputs": [],
   "source": [
    "def thingcode(a, b, c = 3):\n",
    "    if not isinstance(a, int):\n",
    "        print('Argument a must be an integer!')\n",
    "        return()\n",
    "    if not isinstance(b, str):\n",
    "        print('Argument b must be a string!')\n",
    "        return()\n",
    "    if not isinstance(c, (int, float)):\n",
    "        print('Argument c must be numeric!')\n",
    "        return()\n",
    "    print('Thing' + b + ' equals ' + str(a*c)) \n",
    "    return(a*c)"
   ]
  },
  {
   "cell_type": "code",
   "execution_count": null,
   "id": "3c051fa0-5543-4d42-8aac-60bdda48b699",
   "metadata": {},
   "outputs": [],
   "source": [
    "thing_code(4, 'blah')\n",
    "type(4)"
   ]
  }
 ],
 "metadata": {
  "kernelspec": {
   "display_name": "Python 3 (ipykernel)",
   "language": "python",
   "name": "python3"
  },
  "language_info": {
   "codemirror_mode": {
    "name": "ipython",
    "version": 3
   },
   "file_extension": ".py",
   "mimetype": "text/x-python",
   "name": "python",
   "nbconvert_exporter": "python",
   "pygments_lexer": "ipython3",
   "version": "3.8.8"
  }
 },
 "nbformat": 4,
 "nbformat_minor": 5
}
