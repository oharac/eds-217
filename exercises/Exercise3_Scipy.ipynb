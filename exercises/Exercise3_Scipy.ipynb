{
 "cells": [
  {
   "cell_type": "markdown",
   "metadata": {},
   "source": [
    "| [⬅️ Previous Exercise](Exercise2-3_Matplotlib.ipynb) | [🏠 Index](Index.ipynb) | [➡️ Bonus Content!](Labs.ipynb) |\n",
    "\n",
    "# Exercise 3: Probability and Stochastic Processes with Scipy\n",
    "\n",
    "![](assets/kenya_landscape.png)\n",
    "\n",
    "Rainfall in many dryland ecosystems exhibits pronounced variability from year to year. Because rainfall occurs intermittently and with a low degree of predictability, we often are forced to characterize the occurrence and amount of rainfall in terms of **probability**. In this exercise, we will investigate the probabilistic nature of rainfall at various locations in Kenya. We will use these data to explore the concepts of probability and conditional probability, as well as probability density functions and cumulative density functions. We will use these data to develop a stochastic model of rainfall that can be used to generate  novel time series of rainfall and develop inference into the likelihood of various daily, monthly, seasonal, and annual rainfall totals. \n",
    "\n",
    "\n",
    "<div class=\"boxhead2\">\n",
    "    Exercise 3 Topics\n",
    "</div>\n",
    "\n",
    "<div class=\"boxtext2\">\n",
    "<ul class=\"a\">\n",
    "    <li> 📌 Analyze the probabilities and distribution of daily rainfall. </li>\n",
    "    <li> 📌 Fit an exponential distribution to rainfall depths. </li>\n",
    "    <li> 📌 Use our fitted distribution and rainfall probabilities to generate a stochastic model of daily rainfall. </li>\n",
    "    <li> 📌 Use conditional probabilities to examine the independent nature of the daily rainfall process. </li>\n",
    "    <li> 📌 Modify our model to generate monthly variation in rainfall probabilities and plot the results. </li>\n",
    "</ul>\n",
    "</div>\n",
    "\n",
    "<hr style=\"border-top: 0.2px solid gray; margin-top: 12pt; margin-bottom: 0pt\"></hr>\n",
    "\n",
    "### Instructions\n",
    "Work through the exercise, writing code where indicated. To run a cell, click on the cell and press \"Shift\" + \"Enter\" or click the \"Run\" button in the toolbar at the top. Note: Do not restart the kernel and clear all outputs. If this happens, run the last cell in the notebook before proceeding.\n",
    "\n",
    "<p style=\"color:#408000; font-weight: bold\"> 🐍 &nbsp; &nbsp; This symbol designates an important note about Python structure, syntax, or another quirk.  </p>\n",
    "\n",
    "<p style=\"color:#008C96; font-weight: bold\"> ▶️ &nbsp; &nbsp; This symbol designates a cell with code to be run.  </p>\n",
    "\n",
    "<p style=\"color:#008C96; font-weight: bold\"> ✏️ &nbsp; &nbsp; This symbol designates a partially coded cell with an example.  </p>\n",
    "\n",
    "<p style=\"color:#008C96; font-weight: bold\"> 📚 &nbsp; &nbsp; This symbol designates a practice question.  </p>\n",
    "\n",
    "\n",
    "<hr style=\"border-top: 1px solid gray; margin-top: 24px; margin-bottom: 1px\"></hr>"
   ]
  },
  {
   "cell_type": "markdown",
   "metadata": {},
   "source": [
    "### Imports\n",
    "\n",
    "First, let's load <span class=\"code\">pandas</span> into our notebook. As usual, we use `pd` as the shortname for pandas and `np` as the shortname for <span class=\"code\">numpy</span>. \n",
    "\n",
    "<div class=\"run\">\n",
    "    ▶️ <b> Run the cell below. </b>\n",
    "</div>"
   ]
  },
  {
   "cell_type": "code",
   "execution_count": 28,
   "metadata": {},
   "outputs": [],
   "source": [
    "import pandas as pd\n",
    "import numpy as np\n",
    "import matplotlib.pyplot as plt\n",
    "%matplotlib inline"
   ]
  },
  {
   "cell_type": "markdown",
   "metadata": {},
   "source": [
    "### Reading in the data\n",
    "\n",
    "All the data for our exercise are stored as `.csv` files. We will read the `.csv` file into a `DataFrame`. Note: be sure you have copied the file from the `data` folder.\n",
    "\n",
    "<div class=\"run\">\n",
    "    ▶️ <b> Run the cell below. </b>\n",
    "</div>"
   ]
  },
  {
   "cell_type": "code",
   "execution_count": 33,
   "metadata": {},
   "outputs": [
    {
     "name": "stdout",
     "output_type": "stream",
     "text": [
      "<class 'pandas.core.frame.DataFrame'>\n",
      "RangeIndex: 16602 entries, 0 to 16601\n",
      "Data columns (total 5 columns):\n",
      " #   Column         Non-Null Count  Dtype  \n",
      "---  ------         --------------  -----  \n",
      " 0   Rainfall (mm)  15751 non-null  float64\n",
      " 1   Date           16602 non-null  object \n",
      " 2   Year           16602 non-null  int64  \n",
      " 3   Month          16602 non-null  int64  \n",
      " 4   Day            16602 non-null  int64  \n",
      "dtypes: float64(1), int64(3), object(1)\n",
      "memory usage: 648.6+ KB\n",
      "<class 'pandas.core.frame.DataFrame'>\n",
      "RangeIndex: 16602 entries, 0 to 16601\n",
      "Data columns (total 5 columns):\n",
      " #   Column         Non-Null Count  Dtype  \n",
      "---  ------         --------------  -----  \n",
      " 0   rainfall (mm)  15751 non-null  float64\n",
      " 1   date           16602 non-null  object \n",
      " 2   year           16602 non-null  int64  \n",
      " 3   month          16602 non-null  int64  \n",
      " 4   day            16602 non-null  int64  \n",
      "dtypes: float64(1), int64(3), object(1)\n",
      "memory usage: 648.6+ KB\n"
     ]
    }
   ],
   "source": [
    "df = pd.read_csv(\n",
    "    \"../data/mpala_ranch_house_rainfall.csv\",\n",
    "    usecols=['Rainfall (mm)', 'Date', 'Year', 'Month', 'Day']\n",
    ")\n",
    "df.info()\n",
    "df.columns = df.columns.str.lower()\n",
    "df.info()"
   ]
  },
  {
   "cell_type": "markdown",
   "metadata": {},
   "source": [
    "```python\n",
    "> df.info()\n",
    "\n",
    "<class 'pandas.core.frame.DataFrame'>\n",
    "RangeIndex: 16602 entries, 0 to 16601\n",
    "Data columns (total 5 columns):\n",
    "Rainfall (mm)    15751 non-null float64\n",
    "Date             16602 non-null object\n",
    "Year             16602 non-null int64\n",
    "Month            16602 non-null int64\n",
    "Day              16602 non-null int64\n",
    "dtypes: float64(1), int64(3), object(1)\n",
    "memory usage: 648.6+ KB\n",
    "```\n",
    "\n",
    "Here we see that the `DataFrame` has 16,602 entries (this is the number of rows in the `.csv` file), and contains 5 columns that are called `Rainfall (mm)`, `Date`, `Year`, `Month`, and `Day`. These column names are taken directly from the `.csv` header row.\n",
    "\n",
    "<span class=\"code\">Pandas</span> has auto-detected that `Year`, `Month`, and `Day` are all integers and the data in the `Rainfall (mm)` column are detected to be floating point numbers. The `Date` column has been categorized as an indeterminant `object` type (this is the default type, which means <span class=\"code\">pandas</span> has no idea what to do with this column). We will come back to this in a bit, but first let's keep exploring our new `DataFrame`.\n",
    "\n",
    "\n",
    "Let's take a look at the first few rows of the dataframe using the `head()` command.\n",
    "\n",
    "<div class=\"run\">\n",
    "    ▶️ <b> Run the cell below. </b>\n",
    "</div>"
   ]
  },
  {
   "cell_type": "code",
   "execution_count": 5,
   "metadata": {},
   "outputs": [
    {
     "data": {
      "text/html": [
       "<div>\n",
       "<style scoped>\n",
       "    .dataframe tbody tr th:only-of-type {\n",
       "        vertical-align: middle;\n",
       "    }\n",
       "\n",
       "    .dataframe tbody tr th {\n",
       "        vertical-align: top;\n",
       "    }\n",
       "\n",
       "    .dataframe thead th {\n",
       "        text-align: right;\n",
       "    }\n",
       "</style>\n",
       "<table border=\"1\" class=\"dataframe\">\n",
       "  <thead>\n",
       "    <tr style=\"text-align: right;\">\n",
       "      <th></th>\n",
       "      <th>Rainfall (mm)</th>\n",
       "      <th>Date</th>\n",
       "      <th>Year</th>\n",
       "      <th>Month</th>\n",
       "      <th>Day</th>\n",
       "    </tr>\n",
       "  </thead>\n",
       "  <tbody>\n",
       "    <tr>\n",
       "      <th>0</th>\n",
       "      <td>0.0</td>\n",
       "      <td>1972-01-01</td>\n",
       "      <td>1972</td>\n",
       "      <td>1</td>\n",
       "      <td>1</td>\n",
       "    </tr>\n",
       "    <tr>\n",
       "      <th>1</th>\n",
       "      <td>0.0</td>\n",
       "      <td>1972-01-02</td>\n",
       "      <td>1972</td>\n",
       "      <td>1</td>\n",
       "      <td>2</td>\n",
       "    </tr>\n",
       "    <tr>\n",
       "      <th>2</th>\n",
       "      <td>0.0</td>\n",
       "      <td>1972-01-03</td>\n",
       "      <td>1972</td>\n",
       "      <td>1</td>\n",
       "      <td>3</td>\n",
       "    </tr>\n",
       "    <tr>\n",
       "      <th>3</th>\n",
       "      <td>0.0</td>\n",
       "      <td>1972-01-04</td>\n",
       "      <td>1972</td>\n",
       "      <td>1</td>\n",
       "      <td>4</td>\n",
       "    </tr>\n",
       "    <tr>\n",
       "      <th>4</th>\n",
       "      <td>0.0</td>\n",
       "      <td>1972-01-05</td>\n",
       "      <td>1972</td>\n",
       "      <td>1</td>\n",
       "      <td>5</td>\n",
       "    </tr>\n",
       "  </tbody>\n",
       "</table>\n",
       "</div>"
      ],
      "text/plain": [
       "   Rainfall (mm)        Date  Year  Month  Day\n",
       "0            0.0  1972-01-01  1972      1    1\n",
       "1            0.0  1972-01-02  1972      1    2\n",
       "2            0.0  1972-01-03  1972      1    3\n",
       "3            0.0  1972-01-04  1972      1    4\n",
       "4            0.0  1972-01-05  1972      1    5"
      ]
     },
     "execution_count": 5,
     "metadata": {},
     "output_type": "execute_result"
    }
   ],
   "source": [
    "df.head()"
   ]
  },
  {
   "cell_type": "markdown",
   "metadata": {},
   "source": [
    "## Determine yearly rainfall totals.\n",
    "\n",
    "The most common – but not always the most useful – interval of rainfall characterization is annual. Let's see what years we have available to investigate annual rainfall, using the [`pd.unique()`](https://pandas.pydata.org/pandas-docs/stable/reference/api/pandas.Series.unique.html) function.\n",
    "\n",
    "\n",
    "<div class=\"example\">\n",
    "    ✏️ <b> Try it. </b> \n",
    "    Use the <code>pd.unique()</code> function to get a list of the unique years contained in the <code>Year</code> column of our dataframe, <code>df</code>. Assign this list of years to a new array called <code>all_years</code>\n",
    "</div>"
   ]
  },
  {
   "cell_type": "code",
   "execution_count": 8,
   "metadata": {},
   "outputs": [
    {
     "name": "stdout",
     "output_type": "stream",
     "text": [
      "[1972 1973 1974 1975 1976 1977 1978 1979 1980 1981 1982 1983 1984 1985\n",
      " 1986 1987 1988 1989 1990 1991 1992 1993 1994 1995 1996 1997 1998 1999\n",
      " 2000 2001 2002 2003 2004 2005 2006 2007 2008 2009 2010 2011 2012 2013\n",
      " 2014 2015 2016 2017]\n"
     ]
    }
   ],
   "source": [
    "all_years = pd.unique(df.Year)\n",
    "print(all_years)"
   ]
  },
  {
   "cell_type": "markdown",
   "metadata": {},
   "source": [
    "\n",
    "If all goes well, you should get results that look like this: \n",
    "```python\n",
    "\n",
    "> print(all_years)\n",
    "\n",
    "[1972 1973 1974 1975 1976 1977 1978 1979 1980 1981 1982 1983 1984 1985\n",
    " 1986 1987 1988 1989 1990 1991 1992 1993 1994 1995 1996 1997 1998 1999\n",
    " 2000 2001 2002 2003 2004 2005 2006 2007 2008 2009 2010 2011 2012 2013\n",
    " 2014 2015 2016 2017]\n",
    "```\n",
    "\n",
    "It looks like we have almost five decades of rainfall data. The first thing we might want to do with this data is look at yearly summaries. \n",
    "\n",
    "\n",
    "<hr style=\"border-top: 1px solid gray; margin-top: 24px; margin-bottom: 1px\"></hr>\n",
    "\n",
    "\n",
    "\n",
    "<div class=\"practice\">\n",
    "    📚  <b> Practice 1. (The following steps can be combined into a single line of code)</b> \n",
    "<ol class=\"alpha\">\n",
    "<li>Determine the annual rainfall totals for each year.</li>\n",
    "<li>Use method chaining combined with the <code>df.groupby()</code> function to get the sum of every year's rainfall. </li>    \n",
    "<li>Use the argument <code>min_count</code> in the <a href=\"https://pandas.pydata.org/pandas-docs/stable/reference/api/pandas.DataFrame.sum.html\"><code>sum()</code></a> command to force pandas to only include sums of rainfall for years with at least 350 days of data.</li>\n",
    "    \n",
    "<li>Assign these totals to a new <code>Series</code> variable called <code>yearly_rainfall_total</code>.</li> \n",
    "\n",
    "</ol>\n",
    "</div>\n"
   ]
  },
  {
   "cell_type": "code",
   "execution_count": 12,
   "metadata": {},
   "outputs": [
    {
     "data": {
      "text/plain": [
       "Year\n",
       "1972    681.228\n",
       "1973        NaN\n",
       "1974    378.968\n",
       "1975    791.464\n",
       "1976    363.220\n",
       "Name: Rainfall (mm), dtype: float64"
      ]
     },
     "execution_count": 12,
     "metadata": {},
     "output_type": "execute_result"
    }
   ],
   "source": [
    "yearly_rainfall_total = df.groupby('Year').sum(min_count = 350)['Rainfall (mm)']\n",
    "yearly_rainfall_total.head()"
   ]
  },
  {
   "cell_type": "code",
   "execution_count": null,
   "metadata": {},
   "outputs": [],
   "source": []
  },
  {
   "cell_type": "code",
   "execution_count": null,
   "metadata": {},
   "outputs": [],
   "source": [
    "If all goes correctly, you should get results that look like this: \n",
    "\n",
    "```python\n",
    "> yearly_rainfall_total.head()\n",
    "\n",
    "Year\n",
    "1972    681.228\n",
    "1973        NaN\n",
    "1974    378.968\n",
    "1975    791.464\n",
    "1976    363.220\n",
    "Name: Rainfall (mm), dtype: float64\n",
    "\n",
    "```        \n",
    "\n",
    "\n",
    "<hr style=\"border-top: 1px solid gray; margin-top: 24px; margin-bottom: 1px\"></hr>\n",
    "\n",
    "\n",
    "## Quantifying rainfall variability\n",
    "\n",
    "We can use the [coefficient of variation](https://en.wikipedia.org/wiki/Coefficient_of_variation) to describe rainfall variability. The coefficient of variation, $CV$, of a group of numbers is the ratio of the standard deviation, $\\sigma$, to the mean, $\\mu$. We can calculate the population CV of a sample, $\\widehat{CV}$, as the ratio of standard deviation of the sample, $s$, and the sample mean, $\\bar{x}$:\n",
    "\n",
    "$$ \\widehat{CV} = \\frac{s}{\\bar{x}} $$ \n",
    "\n",
    "\n",
    "<div class=\"example\">\n",
    "    ✏️ <b> Try it. </b>    \n",
    "Create a histogram of yearly rainfall amounts using the  <a href=\"https://pandas.pydata.org/pandas-docs/stable/reference/api/pandas.DataFrame.hist.html\"><code>hist()</code></a> command that is a built-in method of any <code>pandas.Series</code>. <br>\n",
    "    <br>\n",
    "    Note: Your variable, <code>yearly_rainfall_total</code> should be a <code>pandas.Series</code> object.\n",
    "</div>"
   ]
  },
  {
   "cell_type": "code",
   "execution_count": 13,
   "metadata": {},
   "outputs": [
    {
     "data": {
      "text/plain": [
       "<AxesSubplot:>"
      ]
     },
     "execution_count": 13,
     "metadata": {},
     "output_type": "execute_result"
    },
    {
     "data": {
      "image/png": "[encoded data removed]",
      "text/plain": [
       "<Figure size 432x288 with 1 Axes>"
      ]
     },
     "metadata": {
      "needs_background": "light"
     },
     "output_type": "display_data"
    }
   ],
   "source": [
    "yearly_rainfall_total.hist()"
   ]
  },
  {
   "cell_type": "markdown",
   "metadata": {},
   "source": [
    "We have a very pronounced mode, with a large degree of variation. Let's calculate the $\\widehat{CV}$.\n",
    "\n",
    "<div class=\"example\">\n",
    "    ✏️ <b> Try it. </b>    \n",
    "Use the formula above to calculate the $\\widehat{CV}$ for the data in <code>yearly_rainfall_total</code>.\n",
    "</div>"
   ]
  },
  {
   "cell_type": "code",
   "execution_count": 19,
   "metadata": {},
   "outputs": [
    {
     "data": {
      "text/plain": [
       "0.35555343034118253"
      ]
     },
     "execution_count": 19,
     "metadata": {},
     "output_type": "execute_result"
    }
   ],
   "source": [
    "yearly_rainfall_total.std() / yearly_rainfall_total.mean()"
   ]
  },
  {
   "cell_type": "markdown",
   "metadata": {},
   "source": [
    "$\\widehat{CV}$ has some problems dealing with small sample sizes (n) and tends to be biased low. We can create an unbiased estimator, $\\widehat{CV}^{*}$ using the following function${^1}$:\n",
    "\n",
    "$$ \\widehat{CV}^{*} = \\left(1 + \\frac{1}{4n}\\right)\\widehat{CV} $$\n",
    "\n",
    "${^1}$ _technically, $\\widehat{CV}^{*}$ is only valid for normally-distributed data, but we will use it anyway as an example._\n",
    "\n",
    "<div class=\"practice\">\n",
    "    📚  <b> Practice 2.</b>\n",
    "    Create a function that calculates the $\\widehat{CV}^{*}$ for a set of data and use the function to determine the $\\widehat{CV}^{*}$ value for our yearly rainfall data.\n",
    "</div>"
   ]
  },
  {
   "cell_type": "code",
   "execution_count": 21,
   "metadata": {},
   "outputs": [
    {
     "name": "stdout",
     "output_type": "stream",
     "text": [
      "0.35748578594086283\n"
     ]
    }
   ],
   "source": [
    "cv = (1 + 1/(4*len(yearly_rainfall_total))) * yearly_rainfall_total.std() / yearly_rainfall_total.mean()\n",
    "print(cv)"
   ]
  },
  {
   "cell_type": "markdown",
   "metadata": {},
   "source": [
    "## Examining daily rainfall probabilities and amounts\n",
    "\n",
    "As we see from the analysis of yearly and monthly rainfall, the climatology of this location is characterized by a fairly high degree of variability. The same is true of many tropical drylands.\n",
    "\n",
    "### 1. What is the chance that it will rain?\n",
    "In order to get at the rainfall process itself, let's look at the distribution of rainfall events. We can find all the days of rainfall by simply filtering our `DataFrame` to find days when rain was greater than zero. To do this, we can use the `loc()` function.\n",
    "\n",
    "The following line of code returns a new dataframe that contains only the rows where `'Rainfall (mm)'` is greater than zero:\n",
    "\n",
    "```python\n",
    "rainy_days = df.loc[ (df['Rainfall (mm)'] > 0) ]\n",
    "\n",
    "```\n",
    "\n",
    "\n",
    "<div class=\"practice\">\n",
    "    📚  <b> Practice 3.</b>\n",
    "    Calculate the overall probability of daily rainfall.\n",
    "    <ol class=\"alpha\">\n",
    "        <li> Create a <code>DataFrame</code> containing only rainy days (when rainfall is greater than zero) called <code>rainy_days</code></li>\n",
    "        <li> Create a <code>DataFrame</code> consisting of all observation days (when rainfall is not equal to <code>NaN</code>) called <code>all_days</code></li>\n",
    "        <li> Use the ratio of the length of <code>rainy_days</code> and <code>all_days</code> to determine the probability of rainfall and save this as a new variable called <code>prob_rain</code>.</li>\n",
    "    </ol>\n",
    "</div>"
   ]
  },
  {
   "cell_type": "code",
   "execution_count": 26,
   "metadata": {},
   "outputs": [
    {
     "name": "stdout",
     "output_type": "stream",
     "text": [
      "0.13211859564472098\n"
     ]
    }
   ],
   "source": [
    "rainy_days = df.loc[ (df['Rainfall (mm)'] > 0) ]\n",
    "all_days = df.loc[ (df['Rainfall (mm)'].notnull() ) ]\n",
    "prob_rain = len(rainy_days) / len(all_days)\n",
    "print(prob_rain)"
   ]
  },
  {
   "cell_type": "markdown",
   "metadata": {},
   "source": [
    "If all goes well, then you should get the following value for `prob_rain`:\n",
    "```python\n",
    "\n",
    "> print(prob_rain)\n",
    "0.13211859564472098\n",
    "```\n",
    "\n",
    "<hr style=\"border-top: 1px solid gray; margin-top: 24px; margin-bottom: 1px\"></hr>\n",
    "\n",
    "### Monthly Rainfall Totals and Probabilities\n",
    "\n",
    "Over the entire time period, the probability of rainfall was about 13%, which means that it rains - on average - a little less than once per week (approximately every 7.7 days). However, most regions have strong seasonality in rainfall. Our data comes from a site that is located very close to the equator in central Kenya. This means that the movement of the ITCZ across the tropics causes changes in the likelihood of rainfall from month to month. We should therefore look at monthly rainfall probabilies rather than simply the annual average.\n",
    "\n",
    "<div class=\"practice\">\n",
    "    📚  <b> Practice 4.</b>\n",
    "    <ol class=\"alpha\">\n",
    "        <li> Determine the probability of rainfall for each month. Add these values to a list called <code>lambda_by_month</code>. Hint: You can combine test criteria using logical operators (i.e. <code>&</code> and <code>|</code>).\n",
    "        <li>Create a bar graph of the monthly rainfall probabilites. Label your plot appropriately.\n",
    "    </ol>\n",
    "</div>"
   ]
  },
  {
   "cell_type": "code",
   "execution_count": null,
   "metadata": {},
   "outputs": [],
   "source": [
    "lambda_by_month = "
   ]
  },
  {
   "cell_type": "markdown",
   "metadata": {},
   "source": [
    "### 2. What is the amount that it will rain?\n",
    "\n",
    "We've already subsetted all of our data for days with rain and stored this in the variable `rainy_days`. Let's look at the distribution of rain amounts:\n",
    "\n",
    "<div class=\"run\">\n",
    "    ▶️ <b> Run the cell below. </b>\n",
    "</div>"
   ]
  },
  {
   "cell_type": "code",
   "execution_count": null,
   "metadata": {},
   "outputs": [],
   "source": [
    "rainy_days['Rainfall (mm)'].hist(bins=50)"
   ]
  },
  {
   "cell_type": "markdown",
   "metadata": {},
   "source": [
    "As opposed to the annual rainfall distribution, the distribution of daily storm totals (or daily rainfall) has a much clearer distribution. This pattern of daily rainfall – a positively skewed distribution with a short-tail – is _very_ consistent with what we see across tropical drylands, and even more broadly across any location where rainfall is dominated by convective processes. We might ask what the average storm total is...\n",
    "\n",
    "<div class=\"example\">\n",
    "    ✏️ <b> Try it. </b>    \n",
    "    Calculate the average rainfall amount on rainy days over the data record. Save this quantity as a new variable called <code>avg_rainfall_depth</code>.\n",
    "</div>"
   ]
  },
  {
   "cell_type": "code",
   "execution_count": null,
   "metadata": {},
   "outputs": [],
   "source": []
  },
  {
   "cell_type": "markdown",
   "metadata": {},
   "source": [
    "## Fitting rainfall depths to an exponential distribution\n",
    "\n",
    "A simple rainfall model makes two assumptions; (1) that events arrive according to a Poisson process, and (2) that rainfall depths are distributed according to an exponential distribution. These two assumptions are accompanied by the need for two rainfall parameters; (1) the probability of rainfall events, $\\lambda_r$, and the average depth of rainfall events $\\alpha$. We've already seen how to estimate both of these parameters from rainfall data, so here we are going to focus on testing the appropriateness of the model assumptions during the growing season for Laikipia, Kenya.\n",
    "\n",
    "### Step 1. Fit the distribution\n",
    "\n",
    "To fit the distribution, we are going to use some more functions from <span class=\"code\">python</span>'s suite of numerical analysis. In this case we are going to use some functions from <span class=\"code\">scipy</span>. The [`scipy.stats`](https://docs.scipy.org/doc/scipy/reference/stats.html) module has a large suite of distribution functions pre-defined, which we can use to develop a fit for our data. Using any of these distributions for fitting our data is very easy. The distribution we are most interested in is the exponential distribution, which is called `expon` in the `stats` module.\n",
    "\n",
    "<div class=\"run\">\n",
    "    ▶️ <b> Run the cell below. </b>\n",
    "</div>"
   ]
  },
  {
   "cell_type": "code",
   "execution_count": null,
   "metadata": {},
   "outputs": [],
   "source": [
    "import scipy.stats as st\n",
    "\n",
    "distribution = st.expon\n",
    "data = rainy_days['Rainfall (mm)']\n",
    "params = distribution.fit(data, loc=0) # Force the distribution to be built off of zero\n",
    "\n",
    "print(params)\n",
    "\n",
    "arg = params[:-2]\n",
    "loc = params[-2]\n",
    "scale = params[-1]"
   ]
  },
  {
   "cell_type": "markdown",
   "metadata": {},
   "source": [
    "### Step 2. Calculate fitted PDF and error with fit in distribution\n",
    "\n",
    "To test the fit of our distribution, we can compare the empirical histogram to that predicted by our model. To do this, we first use our `data` to generate the empirical histogram. In this exampkle, we break the data into `30` bins, and we generate a histrogram of `density` rather than counts. This allows for an easier comparison between our empirical data and the fitted probability distribution function. Here are the steps:\n",
    "\n",
    "1. Generate a histogram, from the `data`. Save the bin locations in `x` and the density of values in `y`\n",
    "2. Shift the `x` bin locations generated from the histogram to the center of bins.\n",
    "3. Calculate the value of the fitted `pdf(x)` for each of the bins in `x`.\n",
    "4. Determine the residual sum of the squares, $SS_{error}$, and total sum of squares, $SS_{yy}$, according to:\n",
    "\n",
    "$$ SS_{error} = \\sum_{i=1}^{n} \\left(y_i - f(x_i)\\right)^2 $$\n",
    "$$ SS_{yy} = \\sum_{i=1}^{n} \\left(y_i - \\bar{y}\\right)^2 $$\n",
    "\n",
    "5. Calculate the $r^2$ of the fit, according to\n",
    "\n",
    "$$ r^2 = 1- \\frac{SS_{error}}{SS_{yy}} $$ \n",
    "\n",
    "<div class=\"run\">\n",
    "    ▶️ <b> Run the cell below. </b>\n",
    "</div>"
   ]
  },
  {
   "cell_type": "code",
   "execution_count": null,
   "metadata": {},
   "outputs": [],
   "source": [
    "# Step 1. Generate a density histogram of the data \n",
    "y, x = np.histogram(data, bins=30, density=True)\n",
    "\n",
    "# Step 2. Shift the x bin locations to the center of bins.\n",
    "x = (x + np.roll(x, -1))[:-1] / 2.0\n",
    "\n",
    "# Step 3. Calculate the values of pdx(x) for all x.\n",
    "pdf = distribution.pdf(x, loc=loc, scale=scale, *arg)\n",
    "\n",
    "# Step 4. Determine the residual and total sum of the squares.\n",
    "ss_error = np.sum(np.power(y - pdf, 2.0))\n",
    "ss_yy = np.sum(np.power(y - y.mean(), 2.0))\n",
    "\n",
    "r_2 = 1 - ( ss_error / ss_yy )\n",
    "print(r_2)"
   ]
  },
  {
   "cell_type": "markdown",
   "metadata": {},
   "source": [
    "These results suggest that an exponential distribution is a really good fit for our observed data on rainfall amounts.\n",
    "\n",
    "\n",
    "\n",
    "<hr style=\"border-top: 1px solid gray; margin-top: 24px; margin-bottom: 1px\"></hr>\n",
    "\n",
    "\n",
    "\n",
    "## Modeling rainfall\n",
    "\n",
    "Let's make a very simple model of rainfall that assumes a Poisson process (i.e. a memoryless process). We just saw that this approach is probably too simple, and later we will look at how we could improve the model. But it helps to start with the most simple approach and then add complexity as needed.\n",
    "\n",
    "Our model will be built with the following assumptions:\n",
    "\n",
    "1. The probability of an \"event\" (i.e. rainfall) occuring on any given day is given by the parameter $\\lambda_r$, which has units day$^{-1}$\n",
    "\n",
    "2. The total depth of rainfall on days with rain is a random variable, drawn from an exponential distribution with mean, $\\alpha$, which has units of mm.\n",
    "\n",
    "This type of model is a [\"marked Poisson process\"](http://www.math.kit.edu/stoch/~last/seite/lectures_on_the_poisson_process/media/lastpenrose2017.pdf) and is a special case of a Poisson process on a number line (in our case, the number line is time), where each event is characterized by a random \"mark\" that is independent of the event.\n",
    "\n",
    "### Step 1. Simulating Poisson events\n",
    "\n",
    "We have a variety of means to simulate a Poisson process, and all of them will require the use of a random number generator. The <span class=\"code\">numpy</span> package has lots of different builtin functions to generate pseudo-random numbers, and we can use one of these. \n",
    "\n",
    "To simulate the likelihood of a Poisson event, we can draw a sample from a uniform distribution in $[0,1]$ and compare that to our probability of an event. If the value we draw is less than or equal to our probability, then an event occurs, otherwise no event occurs. The probability density function, $f(x)$ of a uniform distribution sampled over the half open interval from $a$ to $b$, $[a,b)$ is given by \n",
    "\n",
    "$$\n",
    "f(x) = \\frac{1}{b - a}\n",
    "$$\n",
    "\n",
    "\n",
    "We can sample from this distribution using the [**`np.random.uniform()`**](https://docs.scipy.org/doc/numpy/reference/generated/numpy.random.uniform.html) function:\n",
    "\n",
    "```python\n",
    "\n",
    "s = np.random.uniform(low=0,high=1)\n",
    "\n",
    "```\n",
    "\n",
    "The `np.random.uniform()` function also takes the optional argument `size`, which specifies the number of random samples to return. This allows for the generation of large lists of random samples without using a `for` loop or list comprehension approaches.\n",
    "\n",
    "```python\n",
    "# Returns an array of 2 random draws.\n",
    "s = np.random.uniform(low=0, high=1, size=2) \n",
    "\n",
    "# Returns an array of 2 rows each with 10 random draws\n",
    "s_mat = np.random.uniform(low=0, high=1, size=[2, 10])\n",
    "```\n",
    "\n",
    "<div class=\"example\">\n",
    "    ✏️ <b> Try it. </b>    \n",
    "    Using a $\\lambda_r$ value equal to your calculated value of <code>prob_rain</code> and assuming that the length of a growing season, $T_{seas}$, is 160 days, simulate a season of rainfall \"events\", where the value of a day is <code>1</code> if rainfall occurs, and <code>0</code> if not.</div>\n",
    "</div>\n",
    "\n",
    "\n",
    "<div class=\"alert alert-info\">💡 You can use the <code>pd.astype()</code> command to force Boolean (<code>True</code>/<code>False</code>) values into integers (<code>1</code>,<code>0</code>)</div>"
   ]
  },
  {
   "cell_type": "code",
   "execution_count": null,
   "metadata": {},
   "outputs": [],
   "source": []
  },
  {
   "cell_type": "markdown",
   "metadata": {},
   "source": [
    "### Step 2. Adding marks to events\n",
    "\n",
    "Our approach for creating marks (i.e. daily rainfall depths) is to sample them randomly from an exponential distribution with mean $\\alpha$. The exponential probability density function $f(x)$ for $x\\gt0$ as a function of $\\alpha$ is expressed as \n",
    "\n",
    "$$\n",
    "f(x) = \\frac{1}{\\alpha} \\exp\\left(-\\frac{x}{\\alpha}\\right),\n",
    "$$\n",
    "\n",
    "Just as with sampling from a uniform distribution (and as with most everything in `python/pandas`), there's a **function** for that. In this case, we are going to use the... you guessed it... [`np.random.exponential()`](https://docs.scipy.org/doc/numpy/reference/generated/numpy.random.exponential.html) function. It is used similarly to the `np.random.uniform()` function, but with a single parameter to describe the distribution:\n",
    "\n",
    "```python\n",
    "s = np.random.exponential(scale=11.5) \n",
    "```\n",
    "\n",
    "The `scale` parameter is the mean of the distribution, which in our simulations will be $\\alpha$ (mm), the average rainfall depth on days with rain. Just as with `np.random.uniform()`, we can generate lists or arrays of samples from the exponential distribution.\n",
    "\n",
    "```python\n",
    "\n",
    "s = np.random.exponential(scale=11.5, size=2) # Returns an array of 2 random draws.\n",
    "\n",
    "s_mat = np.random.uniform(scale=11.5, size=[2, 10]) # Returns an array of 2 rows each with 10 random draws.\n",
    "\n",
    "```\n",
    "\n",
    "\n",
    "<div class=\"example\">\n",
    "    ✏️ <b> Try it. </b>    \n",
    "    Use the average storm depth (<code>avg_rainfall_depth</code>), probability of rainfall you calculated earlier, and the same $T_{seas}$ as before, generate a season of rainfall.</div>\n",
    "\n",
    "<div class=\"alert alert-info\">💡 The product of <code>0</code> and any rainfall amount is still <code>0</code>. That means you don't need to worry about which days have rain and which don't when multiplying a list of <code>rainfall_amounts</code> and a binary list of <code>rain_days</code>.</div>"
   ]
  },
  {
   "cell_type": "code",
   "execution_count": null,
   "metadata": {},
   "outputs": [],
   "source": []
  },
  {
   "cell_type": "markdown",
   "metadata": {},
   "source": [
    "### Simulating multiple years of rainfall\n",
    "\n",
    "<div class=\"practice\">\n",
    "    📚  <b> Practice 5.</b>\n",
    "    Using your <code>prob_rain</code> and your <code>avg_rainfall_depth</code>:\n",
    "    <ol class=\"alpha\">\n",
    "        <li> Generate 100 years of rainfall.</li>\n",
    "        <li> Plot a histogram of the annual totals.</li>\n",
    "        <li>Calculate the $\\widehat{CV}$ of seasonal rainfall.</li>\n",
    "    </ol>\n",
    "</div>"
   ]
  },
  {
   "cell_type": "code",
   "execution_count": null,
   "metadata": {},
   "outputs": [],
   "source": [
    "                   "
   ]
  },
  {
   "cell_type": "markdown",
   "metadata": {},
   "source": [
    "## Conditional Probabilities: Given that today was rainy, will it rain tomorrow?\n",
    "\n",
    "Finally, we want to look to see if we can predict rainfall. The easiest way to think about predictability is to ask whether or not knowing what happened today significantly alters our expectation about what will happen tomorrow. There are two options:\n",
    "\n",
    "1. If every day is random and unpredictable, then rainfall tomorrow will be independent of what happened today.\n",
    "2. If what happens today affects tomorrow, then we should see dependency between today and tomorrow's rainfall.\n",
    "\n",
    "We can test the independence of rainfall likelihood by testing to see if rainfall on day $t$ affects the probability of rainfall on day $t+1$. \n",
    "\n",
    "Formally, we can write the probability that rainfall, $R$, on some day $t$,is greater than zero as $P[R_t>0]$. If $ P[R_t>0] = P[R_t>0 | R_{t-1} >0] $, then we can say that $P[R_t]$ and $P[R_{t-1}]$ are independent.\n",
    "\n",
    "First, we use the **index** property of `rainy_days`, which is just a list of all the index values (or rows) in our original data, `df`, where rainfall was greater than zero. Then we increment the index and save all these rows from the original data into a new variable, `days_after_rain`.\n",
    "\n",
    "<div class=\"practice\">\n",
    "    📚  <b> Practice 6.</b>\n",
    "    <ol class=\"alpha\">\n",
    "        <li> Make a list of the index locations of <code>rainy_days</code> using the <code>index</code> attribute of <code>rainy_days</code>.</li>\n",
    "        <li> Create a new dataframe called <code>days_after_rain</code> that contains only the days after rainy days. You will need to use our original <code>df</code> dataframe to get this new dataframe.</li>\n",
    "        <li>Calculate the probability of rainfall following rainy days using your new <code>days_after_rain</code> variable. Call this new probability <code>prob_rain_after_rain</code></li>\n",
    "        <li>Compare the probability of rainfall following rainy days (<code>prob_rain_after_rain</code>) to the overall probability of rainfall (<code>prob_rain</code>). Based on these values, is an assumption of independence in the rainfall process valid?</li>\n",
    "    </ol>\n",
    "</div>"
   ]
  },
  {
   "cell_type": "code",
   "execution_count": null,
   "metadata": {},
   "outputs": [],
   "source": []
  },
  {
   "cell_type": "markdown",
   "metadata": {},
   "source": [
    "## Simulating annual rainfall with monthly values\n",
    "\n",
    "One improvement we can make to our model is to have monthly values for our rainfall probabilities. To get these monthly $\\lambda_r$ values, we need to determine the probability of rainfall for each month by dividing the number of rainy days per month by the total number of observations in each month, which we did in Practice 4. For now, we assume stationarity in the monthly values, which means that we are assuming that the values of $\\lambda_r$ in each month are the same through out the entire record (i.e. Jan 1938 has the same properties as Jan 2008). \n",
    "\n",
    "<div class=\"alert alert-info\">💡 It's worth thinking about how you could test our stationarity assumption. If you have an idea of how to do so, go ahead and give it a shot!</div>\n",
    "\n",
    "To improve our simulation of annual rainfall, we are going to use our monthly values to specify daily values of $\\lambda_r$ using the monthly values we just calculated. The use of a variable $\\lambda$ value in a Poisson process creates what is known as an \"inhomogenous Poisson process\" (or, alternatively, \"nonhomogeneous\"... unfortunatetly, there isn't much homogeneity in what we call it!). These types of processes allow the properties of the process to change in space and time. Our implementation – using monthly values – is a little clunky, and we'd prefer to have the $\\lambda$ values change more smoothly throughout the year. However, we probably don't have sufficient data to allow for this, even if we could accomodate the more complicated coding it would require. \n",
    "\n",
    "In order to generate our nonhomogenous process, we will first generate a daily array of month numbers for the year `2018`. This is really easy in python using `datetime` + `timedelta` (which we need to import).\n",
    "\n",
    "```python\n",
    "    from datetime import timedelta, datetime\n",
    "    datetimes = np.arange(\n",
    "        datetime(2018,1,1), datetime(2018,12,31),\n",
    "        timedelta(days=1)).astype(datetime)\n",
    "    month_value_by_day = np.array([datetime.month for datetime in datetimes])\n",
    "```\n",
    "<div class=\"run\">\n",
    "    ▶️ <b> Run the cell below. </b>\n",
    "</div>"
   ]
  },
  {
   "cell_type": "code",
   "execution_count": null,
   "metadata": {},
   "outputs": [],
   "source": [
    "from datetime import timedelta, datetime\n",
    "datetimes = np.arange(datetime(2018,1,1), datetime(2019,1,1), timedelta(days=1)).astype(datetime)\n",
    "month_value_by_day = np.array([datetime.month for datetime in datetimes])"
   ]
  },
  {
   "cell_type": "markdown",
   "metadata": {},
   "source": [
    "Now we have a 12-element `np.array` of $\\lambda_r$ values, organized by month number, which we've stored in `lambda_by_month` and we have a list of 365 days that contains the month number for each day, which we've stored in `month_value_by_day`. We can use these two variables to get a new variable that contains the correct $\\lambda$ value for each day. \n",
    "\n",
    "<div class=\"run\">\n",
    "    ▶️ <b> Run the cell below. </b>\n",
    "</div>"
   ]
  },
  {
   "cell_type": "code",
   "execution_count": null,
   "metadata": {},
   "outputs": [],
   "source": [
    "daily_lambda_values = np.array([lambda_by_month[i-1] for i in month_value_by_day])"
   ]
  },
  {
   "cell_type": "markdown",
   "metadata": {},
   "source": [
    "With daily values of $\\lambda_r$, we only need to follow the same cookbook we used to make the stationary simulation. \n",
    "\n",
    "```python\n",
    "    simulated_rainy_days = (\n",
    "        np.random.uniform(\n",
    "            low=0, high=1, size=len(daily_lambda_values)\n",
    "        ) <= daily_lambda_values).astype(int)\n",
    "    simulated_rainfall_values = np.random.exponential(\n",
    "        scale=alpha, size=len(daily_lambda_values)\n",
    "    )\n",
    "```\n",
    "\n",
    "\n"
   ]
  },
  {
   "cell_type": "markdown",
   "metadata": {},
   "source": [
    "<div class=\"example\">\n",
    "    ✏️ <b> Try it. </b>    \n",
    "    Use the code above to create a new daily rainfall simulation using our daily values of $\\lambda_r$. Plot the daily rainfall data. You can easily plot your rainfall data using the <code>datetimes</code> object we already created as the basis of our x-axis.</div>\n",
    "\n"
   ]
  },
  {
   "cell_type": "code",
   "execution_count": null,
   "metadata": {},
   "outputs": [],
   "source": []
  },
  {
   "cell_type": "markdown",
   "metadata": {},
   "source": [
    "# The End\n",
    "\n",
    "You've made it to the end of the assignment. We've covered a ton of material, so definitely go back and play around with the simulations."
   ]
  },
  {
   "cell_type": "code",
   "execution_count": null,
   "metadata": {},
   "outputs": [],
   "source": [
    "# IGNORE THIS CELL\n",
    "from IPython.core.display import HTML\n",
    "def css_styling():\n",
    "    styles = open(\"./styles/exercises.css\", \"r\").read()\n",
    "    return HTML(styles)\n",
    "css_styling()"
   ]
  },
  {
   "cell_type": "code",
   "execution_count": null,
   "metadata": {},
   "outputs": [],
   "source": []
  }
 ],
 "metadata": {
  "kernelspec": {
   "display_name": "Python 3 (ipykernel)",
   "language": "python",
   "name": "python3"
  },
  "language_info": {
   "codemirror_mode": {
    "name": "ipython",
    "version": 3
   },
   "file_extension": ".py",
   "mimetype": "text/x-python",
   "name": "python",
   "nbconvert_exporter": "python",
   "pygments_lexer": "ipython3",
   "version": "3.8.8"
  }
 },
 "nbformat": 4,
 "nbformat_minor": 4
}
