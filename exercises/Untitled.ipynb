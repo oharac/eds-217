{
 "cells": [
  {
   "cell_type": "code",
   "execution_count": 3,
   "id": "2a920124-8ac2-42ed-9163-1038e4f651bb",
   "metadata": {},
   "outputs": [
    {
     "name": "stdout",
     "output_type": "stream",
     "text": [
      "range(1, 100, 3)\n",
      "[1, 4, 7, 10, 13, 16, 19, 22, 25, 28, 31, 34, 37, 40, 43, 46, 49, 52, 55, 58, 61, 64, 67, 70, 73, 76, 79, 82, 85, 88, 91, 94, 97]\n",
      "['cat', 'dog', 'horse']\n"
     ]
    }
   ],
   "source": [
    "### for loop - iterate over each element in a sequence/list\n",
    "\n",
    "a = range(1, 100, 3)\n",
    "print(a)\n",
    "a = list(a)\n",
    "print(a)\n",
    "\n",
    "b = ['cat', 'dog', 'horse']\n",
    "print(b)"
   ]
  },
  {
   "cell_type": "code",
   "execution_count": 10,
   "id": "54ecd277-1cd1-4ed9-b23d-818b5e5a01b2",
   "metadata": {},
   "outputs": [
    {
     "name": "stdout",
     "output_type": "stream",
     "text": [
      "1\n",
      "2\n",
      "4\n",
      "6\n",
      "7\n",
      "13\n",
      "10\n",
      "23\n",
      "13\n",
      "36\n",
      "16\n",
      "52\n",
      "19\n",
      "71\n",
      "22\n",
      "93\n",
      "25\n",
      "118\n",
      "28\n",
      "146\n",
      "31\n",
      "177\n",
      "34\n",
      "211\n",
      "37\n",
      "248\n",
      "40\n",
      "288\n",
      "43\n",
      "331\n",
      "46\n",
      "377\n",
      "49\n",
      "426\n",
      "52\n",
      "478\n",
      "55\n",
      "533\n",
      "58\n",
      "591\n",
      "61\n",
      "652\n",
      "64\n",
      "716\n",
      "67\n",
      "783\n",
      "70\n",
      "853\n",
      "73\n",
      "926\n",
      "76\n",
      "1002\n",
      "79\n",
      "1081\n",
      "82\n",
      "1163\n",
      "85\n",
      "1248\n",
      "88\n",
      "1336\n",
      "91\n",
      "1427\n",
      "94\n",
      "1521\n",
      "97\n",
      "1618\n"
     ]
    }
   ],
   "source": [
    "#for i, val in enumerate(a):\n",
    "#    print(str(i) + ' blah ' + str(val * i))\n",
    "    \n",
    "### When might a loop be handy?\n",
    "### * when performing some task over a bunch of different files\n",
    "### * when later values depend on earlier values\n",
    "\n",
    "x = 1\n",
    "for i, val in enumerate(a):\n",
    "    val2 = a[i]\n",
    "    print(val2)\n",
    "    x = x + val # plus some random error\n",
    "    print(x)"
   ]
  },
  {
   "cell_type": "code",
   "execution_count": 12,
   "id": "c34d066f-cd38-4287-98a1-820236ff0385",
   "metadata": {},
   "outputs": [
    {
     "name": "stdout",
     "output_type": "stream",
     "text": [
      "-120\n",
      "-140\n",
      "-160\n",
      "-180\n",
      "-200\n",
      "-220\n",
      "-240\n",
      "-260\n",
      "-280\n",
      "-300\n",
      "-320\n",
      "-340\n",
      "-360\n",
      "-380\n",
      "-400\n",
      "-420\n",
      "-440\n",
      "-460\n",
      "-480\n",
      "-500\n",
      "-520\n"
     ]
    }
   ],
   "source": [
    "### while loop - iterate while some condition is TRUE\n",
    "x = -100\n",
    "i = 0 ### initialize count\n",
    "\n",
    "while(x < 100):\n",
    "    x = x - 20\n",
    "    print(x)\n",
    "    i = i + 1  ### increment count\n",
    "    if i > 20:\n",
    "        break\n"
   ]
  },
  {
   "cell_type": "code",
   "execution_count": 15,
   "id": "c21e745d-81af-48ea-9f48-038269299503",
   "metadata": {},
   "outputs": [
    {
     "data": {
      "text/plain": [
       "[26.0,\n",
       " 27.5,\n",
       " 29.0,\n",
       " 30.5,\n",
       " 32.0,\n",
       " 33.5,\n",
       " 35.0,\n",
       " 36.5,\n",
       " 38.0,\n",
       " 39.5,\n",
       " 41.0,\n",
       " 42.5,\n",
       " 44.0,\n",
       " 45.5,\n",
       " 47.0,\n",
       " 48.5]"
      ]
     },
     "execution_count": 15,
     "metadata": {},
     "output_type": "execute_result"
    }
   ],
   "source": [
    "### list comprehension\n",
    "blargh = [aa/2 for aa in a if aa > 50]\n",
    "blargh"
   ]
  },
  {
   "cell_type": "code",
   "execution_count": 17,
   "id": "cb4b0625-705c-4748-860e-6231fe426cdb",
   "metadata": {},
   "outputs": [],
   "source": [
    "def thingcode(a, b, c = 3):\n",
    "    if not isinstance(a, int):\n",
    "        print('Argument a must be an integer!')\n",
    "        return()\n",
    "    if not isinstance(b, str):\n",
    "        print('Argument b must be a string!')\n",
    "        return()\n",
    "    if not isinstance(c, (int, float)):\n",
    "        print('Argument c must be numeric!')\n",
    "        return()\n",
    "    print('Thing' + b + ' equals ' + str(a * c))\n",
    "    return(a * c) ### return statements explicit\n",
    "\n",
    "### Why functions?\n",
    "### * if you need to do something multiple times\n",
    "### * do the same thing to multiple values\n",
    "### * put a easily readable name to a chunk of code"
   ]
  },
  {
   "cell_type": "code",
   "execution_count": 20,
   "id": "8e7981bf-db88-400d-942e-a02114a7c95d",
   "metadata": {},
   "outputs": [
    {
     "name": "stdout",
     "output_type": "stream",
     "text": [
      "Thingblah equals 884\n",
      "Thingblah equals 990\n",
      "Thingblah equals 1102\n",
      "Thingblah equals 1220\n",
      "Thingblah equals 1344\n",
      "Thingblah equals 1474\n",
      "Thingblah equals 1610\n",
      "Thingblah equals 1752\n",
      "Thingblah equals 1900\n",
      "Thingblah equals 2054\n",
      "Thingblah equals 2214\n",
      "Thingblah equals 2380\n",
      "Thingblah equals 2552\n",
      "Thingblah equals 2730\n",
      "Thingblah equals 2914\n",
      "Thingblah equals 3104\n"
     ]
    }
   ],
   "source": [
    "blargh = [thingcode(i, 'blah', aa) for i, aa in enumerate(a) if aa > 50]"
   ]
  }
 ],
 "metadata": {
  "kernelspec": {
   "display_name": "Python 3 (ipykernel)",
   "language": "python",
   "name": "python3"
  },
  "language_info": {
   "codemirror_mode": {
    "name": "ipython",
    "version": 3
   },
   "file_extension": ".py",
   "mimetype": "text/x-python",
   "name": "python",
   "nbconvert_exporter": "python",
   "pygments_lexer": "ipython3",
   "version": "3.8.8"
  }
 },
 "nbformat": 4,
 "nbformat_minor": 5
}
